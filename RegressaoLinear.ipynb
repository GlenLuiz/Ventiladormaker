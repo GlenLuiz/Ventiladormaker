{
  "nbformat": 4,
  "nbformat_minor": 0,
  "metadata": {
    "colab": {
      "name": "Untitled1.ipynb",
      "provenance": [],
      "authorship_tag": "ABX9TyOk5vuo93sPQw7zWTw26Dej",
      "include_colab_link": true
    },
    "kernelspec": {
      "name": "python3",
      "display_name": "Python 3"
    }
  },
  "cells": [
    {
      "cell_type": "markdown",
      "metadata": {
        "id": "view-in-github",
        "colab_type": "text"
      },
      "source": [
        "<a href=\"https://colab.research.google.com/github/GlenLuiz/Ventiladormaker/blob/master/RegressaoLinear.ipynb\" target=\"_parent\"><img src=\"https://colab.research.google.com/assets/colab-badge.svg\" alt=\"Open In Colab\"/></a>"
      ]
    },
    {
      "cell_type": "code",
      "metadata": {
        "id": "AvZKPegCraEg",
        "colab_type": "code",
        "colab": {}
      },
      "source": [
        ""
      ],
      "execution_count": null,
      "outputs": []
    },
    {
      "cell_type": "markdown",
      "metadata": {
        "id": "cKIvM8_grbIQ",
        "colab_type": "text"
      },
      "source": [
        "## **Regressão Liner**"
      ]
    },
    {
      "cell_type": "markdown",
      "metadata": {
        "id": "9h6GB_6hrhj_",
        "colab_type": "text"
      },
      "source": [
        "## Instalacão da biblioteca\n",
        "\n",
        "        > Numpy\n",
        "        > Pandas\n",
        "        > Matplot\n",
        "        > Sklearn"
      ]
    },
    {
      "cell_type": "code",
      "metadata": {
        "id": "hnpUaPBWrgn_",
        "colab_type": "code",
        "colab": {}
      },
      "source": [
        "import pandas as pd\n",
        "from pandas import Series, DataFrame\n",
        "import numpy as np"
      ],
      "execution_count": null,
      "outputs": []
    },
    {
      "cell_type": "markdown",
      "metadata": {
        "id": "Binbp4JfrpcQ",
        "colab_type": "text"
      },
      "source": [
        "- Lendo base de dados\n",
        "\n"
      ]
    },
    {
      "cell_type": "code",
      "metadata": {
        "id": "aDPM5jVBrzXY",
        "colab_type": "code",
        "colab": {}
      },
      "source": [
        "base = pd.read_csv('bases/plano_saude.csv')\n"
      ],
      "execution_count": null,
      "outputs": []
    }
  ]
}